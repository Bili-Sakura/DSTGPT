{
   "cells": [
      {
         "cell_type": "markdown",
         "metadata": {},
         "source": [
            "# Pipeline of data preprocessing for DST-GPT"
         ]
      },
      {
         "cell_type": "markdown",
         "metadata": {},
         "source": [
            "The corpus of DST-GPT is mainly comprised of [Wiki Fandom on DST](https://dontstarve.fandom.com/wiki/Don%27t_Starve_Together#Return_of_Them)"
         ]
      },
      {
         "cell_type": "markdown",
         "metadata": {},
         "source": [
            "<style>\n",
            "    .centered-caption {\n",
            "        text-align: center;\n",
            "    }\n",
            "</style>\n",
            "\n",
            "<figure class=\"centered-caption\">\n",
            "  <img src=\"../assets/DST1.png\" alt=\"Preiew of Wiki Fandom\">\n",
            "  <figcaption>Preview of Wiki Fandom</figcaption>\n",
            "</figure>"
         ]
      },
      {
         "cell_type": "markdown",
         "metadata": {},
         "source": [
            "Here is the pipeline of data preprocessing. We divide the whole process into following parts."
         ]
      },
      {
         "cell_type": "markdown",
         "metadata": {},
         "source": [
            "**1. Preview data**  \n",
            "**2. Crawl raw data from webpages**  \n",
            "**3. Categorize raw data into structured data**"
         ]
      },
      {
         "cell_type": "markdown",
         "metadata": {},
         "source": [
            "## Premilinary"
         ]
      },
      {
         "cell_type": "markdown",
         "metadata": {},
         "source": [
            "Prepare the environment"
         ]
      },
      {
         "cell_type": "code",
         "execution_count": null,
         "metadata": {},
         "outputs": [],
         "source": [
            "# install required packages\n",
            "%pip install beautifulsoup4\n",
            "%pip install requests"
         ]
      },
      {
         "cell_type": "markdown",
         "metadata": {},
         "source": [
            "## **1. Preview data** "
         ]
      },
      {
         "cell_type": "markdown",
         "metadata": {},
         "source": [
            "Crawl a batch of webpages. Here we create a class named `WebCrawlerTest` for testing."
         ]
      },
      {
         "cell_type": "code",
         "execution_count": 3,
         "metadata": {},
         "outputs": [],
         "source": [
            "import requests\n",
            "from bs4 import BeautifulSoup\n",
            "import json\n",
            "\n",
            "class WebCrawlerTest:\n",
            "    def __init__(self):\n",
            "        self.url_list = ['https://example.com/page1', 'https://example.com/page2', 'https://example.com/page3']\n",
            "        \n",
            "    def test_crawl_webpages(self):\n",
            "        data_list = self.crawl_webpages(self.url_list)\n",
            "        \n",
            "        # Assert that the result is not empty\n",
            "        assert data_list\n",
            "        \n",
            "        # Assert that each item in the result has 'url' and 'content' keys\n",
            "        for data in data_list:\n",
            "            assert 'url' in data\n",
            "            assert 'content' in data\n",
            "            print(json.dumps(data, indent=4))\n",
            "\n",
            "    def crawl_webpages(self, url_list):\n",
            "        data_list = []\n",
            "        \n",
            "        for url in url_list:\n",
            "            try:\n",
            "                response = requests.get(url)\n",
            "                if response.status_code == 200:\n",
            "                    soup = BeautifulSoup(response.text, 'html.parser')\n",
            "                    raw_text = soup.get_text()\n",
            "                    data = {'url': url, 'content': raw_text}\n",
            "                    data_list.append(data)\n",
            "            except requests.RequestException as e:\n",
            "                print(f\"Request error: {e}\")\n",
            "            except Exception as e:\n",
            "                print(f\"Error occurred: {e}\")\n",
            "        \n",
            "        return data_list"
         ]
      },
      {
         "cell_type": "code",
         "execution_count": null,
         "metadata": {},
         "outputs": [],
         "source": [
            "# Create an instance for testing\n",
            "test_instance = WebCrawlerTest()\n",
            "# denote testing urls\n",
            "test_urls=[\n",
            "    \"https://dontstarve.fandom.com/wiki/Don%27t_Starve_Wiki\",\n",
            "    \"https://dontstarve.fandom.com/wiki/File:Abigail_Sounds.ogg\",\n",
            "    \"https://forums.kleientertainment.com/forums/topic/102600-game-update-307715/?tab=comments#comment-1151985\",\n",
            "    \"https://dontstarve.fandom.com/wiki/Talk:Winona?action=edit&redlink=1\",\n",
            "    \"https://dontstarve.fandom.com/wiki/Winona\",\n",
            "    \"https://dontstarve.fandom.com/wiki/Winona#Trivia\"\n",
            "]\n",
            "test_instance.url_list=test_urls\n",
            "# Run testing\n",
            "test_instance.test_crawl_webpages()"
         ]
      },
      {
         "cell_type": "markdown",
         "metadata": {},
         "source": [
            "Given the preview of data, we find that some of links in the `href` hyper label directed to websites out of Wiki Fandom, be it `youtube.com` mostly. Therefore, it is notable to omit the webpages whose url does not start with `\"https://dontstarve.fandom.com/wiki\"`. Besides, we conclude that URLs with following features should be omitted while crawling. Most of them are numerous with useless information."
         ]
      },
      {
         "cell_type": "markdown",
         "metadata": {},
         "source": [
            "**1. contains '?'/'='** \n",
            " \n",
            "> Webpages that contain '?' and '=' in their URLs are typically dynamic webpages. In this case, they refers to pages with unuseful infomation be it updates history, comments and so on. \n",
            "\n",
            "**2. contains 'File:'** \n",
            "\n",
            "> Webpages that contain 'File:' in their URLs typically refers to resources be it pictures and voices. \n",
            "\n",
            "**3. contains 'Template:'**  \n",
            "\n",
            "> Webpages that contain 'Template:' in their URLs typically refers to comment templates in forum. \n",
            "\n",
            "**4. contains 'Talk:'** \n",
            "\n",
            "> Webpages that contain 'Talk:' in their URLs typically refers to players' comments in forum. \n",
            "\n",
            "**5. contains '#'**  \n",
            "\n",
            "> Webpages that contain '#' in their URLs typically refer to anchor links within a webpage. These anchor links are used to navigate to specific sections or elements within the webpage itself.\n"
         ]
      },
      {
         "cell_type": "markdown",
         "metadata": {},
         "source": [
            "## **2. Crawl raw data from webpages**  "
         ]
      },
      {
         "cell_type": "markdown",
         "metadata": {},
         "source": [
            "Here we create a class named `WebCrawler` for crawling text infomation from webpages. The member functions are as follows:  \n",
            "\n",
            "**1. is_valid_url(url)**  \n",
            "\n",
            "> Judge whther this webpage is valid/needed or not.\n",
            "\n",
            "**2. clean_text(text)**  \n",
            "\n",
            "> Remove the unnecessary characters from the text crawled from webpages.\n",
            "\n",
            "**3. append_json_data(new_data)**  \n",
            "\n",
            "> Append the new data crawled from webpages into local JSON file in streaming.\n",
            "\n",
            "**4. crawl_page(url, history_crawled_urls)**\n",
            "\n",
            "> Transver all the urls and crawl the text infomation.\n",
            "\n"
         ]
      },
      {
         "cell_type": "code",
         "execution_count": 4,
         "metadata": {},
         "outputs": [],
         "source": [
            "import json\n",
            "from bs4 import BeautifulSoup\n",
            "import requests\n",
            "from urllib.parse import urljoin\n",
            "import time\n",
            "import os\n",
            "import re\n",
            "\n",
            "class WebCrawler:\n",
            "    def __init__(self, base_url=None, start_url=None, json_file_path=None, history_crawled_urls=None):\n",
            "        self.base_url = base_url or 'https://dontstarve.fandom.com/wiki/'\n",
            "        self.start_url = start_url or 'https://dontstarve.fandom.com/wiki/Don%27t_Starve_Wiki'\n",
            "        self.json_file_path = json_file_path or '../data/dst_raw_text.json'\n",
            "        self.history_crawled_urls = history_crawled_urls or set()\n",
            "        self.history_crawled_urls.add(self.start_url)\n",
            "        self.set_crawled_urls()\n",
            "        self.mainbranch_urls=set()\n",
            "        self.set_mainbranch_urls()\n",
            "\n",
            "    def is_valid_url(self, url):\n",
            "        if not isinstance(url, str):\n",
            "            raise ValueError(\"URL must be a string.\")\n",
            "        invalid_symbols = ['?', 'File:', 'Template:', 'Talk:', '#','Special:','Message_Wall:','User:','Help:','User_blog:','Board_Thread:','Thread:']\n",
            "        return all(invalid_symbol not in url for invalid_symbol in invalid_symbols) and url.startswith(self.base_url)\n",
            "    \n",
            "    def remove_invalid_elements(self):\n",
            "        with open(self.json_file_path, 'r', encoding='utf-8') as file:\n",
            "            data_list = json.load(file)\n",
            "        \n",
            "        data_list = [data for data in data_list if self.is_valid_url(data['source'])]\n",
            "        \n",
            "        with open(self.json_file_path, 'w', encoding='utf-8') as file:\n",
            "            json.dump(data_list, file, ensure_ascii=False, indent=4)\n",
            "        \n",
            "\n",
            "    def clean_text(self, text):\n",
            "        if not isinstance(text, str):\n",
            "            raise ValueError(\"Text must be a string.\")\n",
            "        text = text.replace('\\n', ' ').replace('\\t', ' ')\n",
            "        text = re.sub('\\u200E', '', text)\n",
            "        text = ' '.join(text.split())\n",
            "        return text\n",
            "\n",
            "    def append_json_data(self,new_data):\n",
            "        # 检查文件是否存在\n",
            "        if not os.path.exists(self.json_file_path):\n",
            "            with open(self.json_file_path, 'w', encoding='utf-8') as file:\n",
            "                # 初始化文件为包含空列表的JSON\n",
            "                json.dump([], file, ensure_ascii=False, indent=4)\n",
            "\n",
            "        # 逐步写入新的数据项\n",
            "        with open(self.json_file_path, 'r+', encoding='utf-8') as file:\n",
            "            try:\n",
            "                # 将文件指针移动到末尾\n",
            "                file.seek(0, os.SEEK_END)\n",
            "                if file.tell() > 0:\n",
            "                    file.seek(file.tell() - 1)\n",
            "                    file.truncate()\n",
            "                    file.write(',')\n",
            "\n",
            "                # 写入新数据\n",
            "                json.dump(new_data, file, ensure_ascii=False, indent=4)\n",
            "                file.write(']')\n",
            "            except json.JSONDecodeError:\n",
            "                # 如果文件内容不是有效的JSON，初始化数据列表为空列表\n",
            "                with open(self.json_file_path, 'w', encoding='utf-8') as file:\n",
            "                    json.dump([new_data], file, ensure_ascii=False, indent=4)\n",
            "\n",
            "    def set_crawled_urls(self):\n",
            "        # Read the JSON file\n",
            "        with open(self.json_file_path, 'r', encoding='utf-8') as file:\n",
            "            data_list = json.load(file)\n",
            "        \n",
            "\n",
            "        for data in data_list:\n",
            "            self.history_crawled_urls.add(data['source'])\n",
            "            \n",
            "    def clean_duplicate_sources(self):\n",
            "        # Read the JSON file\n",
            "        with open(self.json_file_path, 'r', encoding='utf-8') as file:\n",
            "            data_list = json.load(file)\n",
            "\n",
            "        # Find duplicate sources\n",
            "        unique_sources = set()\n",
            "        duplicate_sources = set()\n",
            "        for data in data_list:\n",
            "            source = data.get('source')\n",
            "            if source in unique_sources:\n",
            "                duplicate_sources.add(source)\n",
            "            else:\n",
            "                unique_sources.add(source)\n",
            "\n",
            "        # Remove duplicate sources\n",
            "        cleaned_data_list = [data for data in data_list if data.get('source') not in duplicate_sources]\n",
            "\n",
            "        # Print duplicate sources\n",
            "        if duplicate_sources:\n",
            "            print(\"Duplicate sources found:\")\n",
            "            for source in duplicate_sources:\n",
            "                print(source)\n",
            "        else: \n",
            "            print(\"No duplicate source found!\")\n",
            "\n",
            "        # Write cleaned data back to the JSON file\n",
            "        with open(self.json_file_path, 'w', encoding='utf-8') as file:\n",
            "            json.dump(cleaned_data_list, file, ensure_ascii=False, indent=4)\n",
            "\n",
            "    def set_mainbranch_urls(self):\n",
            "        self.mainbranch_urls = set()\n",
            "        try:\n",
            "            response = requests.get(self.start_url, timeout=10)\n",
            "            if response.status_code == 200:\n",
            "                soup = BeautifulSoup(response.text, 'html.parser')\n",
            "                for link in soup.find_all('a', href=True):\n",
            "                    child_url = urljoin(self.start_url, link['href'])\n",
            "                    self.mainbranch_urls.add(child_url)\n",
            "                    \n",
            "        except requests.RequestException as e:\n",
            "            print(f\"Request error: {e}\")\n",
            "        except Exception as e:\n",
            "            print(f\"An error occurred: {e}\")\n",
            "     \n",
            "    def crawl_page(self, url):\n",
            "        if not self.is_valid_url(url) :\n",
            "            return\n",
            "        else:  # valid url\n",
            "            try:\n",
            "                \n",
            "                response = requests.get(url, timeout=10)\n",
            "                if response.status_code == 200:\n",
            "                    soup = BeautifulSoup(response.text, 'html.parser')\n",
            "                    cleaned_text = self.clean_text(soup.get_text())\n",
            "                    data = {'text': cleaned_text, 'source': url}\n",
            "                    if url not in self.history_crawled_urls:\n",
            "                        self.append_json_data(data)\n",
            "                    self.history_crawled_urls.add(url)\n",
            "\n",
            "                    for link in soup.find_all('a', href=True):\n",
            "                        child_url = urljoin(url, link['href'])\n",
            "                        # print(child_url)\n",
            "                        if child_url.startswith(self.base_url) and child_url!=self.start_url and not child_url in self.mainbranch_urls and not child_url in self.history_crawled_urls:\n",
            "                            self.crawl_page(child_url)\n",
            "            except requests.RequestException as e:\n",
            "                print(f\"Request error: {e}\")\n",
            "            except Exception as e:\n",
            "                print(f\"An error occurred: {e}\")\n",
            "    def traverse_mainbranch_pages(self):\n",
            "        for url in self.mainbranch_urls:\n",
            "            self.crawl_page(url)\n",
            "    \n",
            "    def print_info(self):\n",
            "        print(\"base_url:\", self.base_url)\n",
            "        print(\"start_url:\", self.start_url)\n",
            "        print(\"json_file_path:\", self.json_file_path)\n",
            "        print(f\"Num of history_crawled_urls:{len(self.history_crawled_urls)}\")\n",
            "        print(f\"Num of mainbranch_urls:{len(self.mainbranch_urls)}\")\n",
            "        # print(\"mainbranch_urls:\", self.mainbranch_urls)\n",
            "\n",
            "\n",
            "\n",
            "\n"
         ]
      },
      {
         "cell_type": "code",
         "execution_count": 9,
         "metadata": {},
         "outputs": [
            {
               "name": "stdout",
               "output_type": "stream",
               "text": [
                  "base_url: https://dontstarve.fandom.com/wiki/\n",
                  "start_url: https://dontstarve.fandom.com/wiki/Don%27t_Starve_Wiki\n",
                  "json_file_path: ./data/dst_raw_text.json\n",
                  "Num of history_crawled_urls:5164\n",
                  "Num of mainbranch_urls:575\n"
               ]
            }
         ],
         "source": [
            "# Start crawling\n",
            "crawler = WebCrawler()\n",
            "crawler.clean_duplicate_sources()\n",
            "crawler.remove_invalid_elements()\n",
            "crawler.print_info()\n"
         ]
      },
      {
         "cell_type": "code",
         "execution_count": null,
         "metadata": {},
         "outputs": [],
         "source": [
            "crawler.traverse_mainbranch_pages()"
         ]
      },
      {
         "cell_type": "markdown",
         "metadata": {},
         "source": [
            "## **3. Categorize raw data into structured data**"
         ]
      },
      {
         "cell_type": "code",
         "execution_count": 4,
         "metadata": {},
         "outputs": [],
         "source": [
            "import json\n",
            "import random\n",
            "\n",
            "class Corpus:\n",
            "    def __init__(self, raw_data_filepath=None, refined_data_filepath=None, raw_data=None):\n",
            "        self.raw_data_filepath = raw_data_filepath or '../data/dst_raw_text.json'\n",
            "        self.refined_data_filepath = refined_data_filepath or '../data/refined_data.json'\n",
            "        self.raw_data = raw_data or self.load_data()\n",
            "        self.refined_data = None\n",
            "        self.common_text=None\n",
            "        self.find_common_text()\n",
            "    \n",
            "    def load_data(self):\n",
            "        with open(self.raw_data_filepath, 'r', encoding='utf-8') as file:\n",
            "            raw_data = json.load(file)\n",
            "        return raw_data\n",
            "\n",
            "    def get_raw_data_info(self):\n",
            "        num_elements = len(self.raw_data)\n",
            "        print(\"Number of elements:\", num_elements)\n",
            "        \n",
            "        if num_elements > 0:\n",
            "            sample_elements = random.sample(self.raw_data, k=min(num_elements, 2))\n",
            "            num_fields = len(sample_elements[0])\n",
            "            field_names = sample_elements[0].keys()\n",
            "            \n",
            "            print(\"Number of fields:\", num_fields)\n",
            "            print(\"Field names:\", field_names)\n",
            "            \n",
            "            print(\"Sample elements:\")\n",
            "            for element in sample_elements:\n",
            "                print(json.dumps(element, ensure_ascii=False, indent=4))\n",
            "        else:\n",
            "            print(\"No elements found in raw data.\")\n",
            "            \n",
            "    def get_refined_data_info(self):\n",
            "        num_elements = len(self.refined_data)\n",
            "        print(\"Number of refined data elements:\", num_elements)\n",
            "        \n",
            "        if num_elements > 0:\n",
            "            sample_elements = random.sample(self.refined_data, k=min(num_elements, 2))\n",
            "            num_fields = len(sample_elements[0])\n",
            "            field_names = sample_elements[0].keys()\n",
            "            \n",
            "            print(\"Number of fields:\", num_fields)\n",
            "            print(\"Field names:\", field_names)\n",
            "            \n",
            "            print(\"Sample elements:\")\n",
            "            for element in sample_elements:\n",
            "                print(json.dumps(element, ensure_ascii=False, indent=4))\n",
            "        else:\n",
            "            print(\"No elements found in refined data.\")\n",
            "\n",
            "    def process_raw_data(self):\n",
            "        self.refined_data = []\n",
            "        for element in self.raw_data:\n",
            "            text = element.get('text', '')\n",
            "            if '|' in text:\n",
            "                filename = text.split('|', 1)[0].strip()\n",
            "                element['filename'] = filename\n",
            "                if self.common_text:\n",
            "                    text = text.replace(self.common_text, '')\n",
            "            element['text'] = text  # 将修改后的text放入refined_data\n",
            "            self.refined_data.append(element)\n",
            "    \n",
            "    def save_refined_data(self):\n",
            "        with open(self.refined_data_filepath, 'w', encoding='utf-8') as file:\n",
            "            json.dump(self.refined_data, file, ensure_ascii=False, indent=4)\n",
            "    \n",
            "    def find_common_text(self):\n",
            "        if len(self.raw_data) >= 2:\n",
            "            random_elements = random.sample(self.raw_data, k=2)\n",
            "            text1 = random_elements[0].get('text', '')\n",
            "            text2 = random_elements[1].get('text', '')\n",
            "            common_text = ''\n",
            "            if '|' in text1 and '|' in text2:\n",
            "                index1 = text1.index('|') + 1\n",
            "                index2 = text2.index('|') + 1\n",
            "                while index1 < len(text1) and index2 < len(text2) and text1[index1] == text2[index2]:\n",
            "                    common_text += text1[index1]\n",
            "                    index1 += 1\n",
            "                    index2 += 1\n",
            "            self.common_text = common_text\n",
            "        else:\n",
            "            print(\"Insufficient data to find common text.\")"
         ]
      },
      {
         "cell_type": "code",
         "execution_count": 5,
         "metadata": {},
         "outputs": [
            {
               "name": "stdout",
               "output_type": "stream",
               "text": [
                  "Number of elements: 5164\n",
                  "Number of fields: 2\n",
                  "Field names: dict_keys(['text', 'source'])\n",
                  "Sample elements:\n",
                  "{\n",
                  "    \"text\": \"Category:Woodie Filter | Don't Starve Wiki | Fandom Don't Starve Wiki Explore Main Page Discuss All Pages Community Interactive Maps Recent Blog Posts Don't Starve Features Hunger Health Sanity Darkness Seasons Freezing Rain Caves Ruins Nightmare Cycle Characters Wilson Willow Wolfgang Wendy WX-78 Wickerbottom Woodie Wes Maxwell Wagstaff Crafting Tools Light Survival Food Science Fight Structures Refine Magic Dress Structures Campfire Science Machine Crock Pot Ice Box Chest Drying Rack Tent Touch Stone Wooden Thing Mobs Chester Pig Beefalo Tallbird Spider Krampus Deerclops MacTusk N' Son Shadow Creatures Abigail Lore The Constant Adventure Mode Timeline Charlie Codex Umbra Nightmare Throne Ancient Civilization Puzzles DLC Reign of Giants Shipwrecked Hamlet Features Wetness Overheating Boats Poison Strong Winds Volcano Pig Shops Pig Traders Housing Ancient Pig Ruins Characters Wigfrid Webber Walani Warly Wilbur Woodlegs Wilba Wormwood Wheeler Crafting Nautical Volcanic Treasure Hunting Green Thumb Renovate City Planning Mobs Glommer Bearger Dragonfly Moose/Goose Quacken Sealnado Yaarctopus Pugalisk BFB Ro Bin Don't Starve Together Expansions A New Reign Return of Them Features Game Modes Ghost Characters Curio Cabinet Communication World Regrowth Meteors Sandstorm Ocean Characters Winona Wortox Wurt Walter Wanda Wonkey Crafting Regular Survivor Items Filter Tools Filter Light Sources Filter Prototypers & Stations Filter Refined Materials Filter Refined Materials Filter Weapons Filter Armour Filter Clothing Filter Healing Filter Shadow Magic Filter Shadow Magic Filter Decorations Filter Structures Filter Storage Solutions Filter Cooking Filter Food & Gardening Filter Fishing Filter Seafaring Filter Beefalo Riding Filter Winter Items Filter Summer Items Filter Rain Gear Filter Prototyping impossible Special Event Filter Ancient Pseudoscience Filter Bottle Exchange Filter Cartography Filter Cawnival Creation Filter Celestial Filter Brightsmithy Filter Critters Filter Mad Science Filte Offerings Filter Sculptures Filter Seasonings Filter Trinket Trove Filter Winter's Feast Cooking Filter Mobs Antlion Bee Queen Klaus Malbatross Hutch Toadstool Ancient Fuelweaver Events Midsummer Cawnival Hallowed Nights Winter's Feast Lunar New Year Events The Forge The Gorge Community Recent blog posts Game Guides Klei Forums Steam Guidelines Rules Manual of Style To-do list Languages Deutsch Español Français Italiano 日本語 Polski Português Русский Tiếng Việt 中文 FANDOM Fan Central BETA Games Anime Movies TV Video Wikis Explore Wikis Community Central Start a Wiki Don't have an account? Register Sign In FANDOM Explore Current Wiki Start a Wiki Don't have an account? Register Sign In Advertisement Sign In Register Don't Starve Wiki 2,169pages Explore Main Page Discuss All Pages Community Interactive Maps Recent Blog Posts Don't Starve Features Hunger Health Sanity Darkness Seasons Freezing Rain Caves Ruins Nightmare Cycle Characters Wilson Willow Wolfgang Wendy WX-78 Wickerbottom Woodie Wes Maxwell Wagstaff Crafting Tools Light Survival Food Science Fight Structures Refine Magic Dress Structures Campfire Science Machine Crock Pot Ice Box Chest Drying Rack Tent Touch Stone Wooden Thing Mobs Chester Pig Beefalo Tallbird Spider Krampus Deerclops MacTusk N' Son Shadow Creatures Abigail Lore The Constant Adventure Mode Timeline Charlie Codex Umbra Nightmare Throne Ancient Civilization Puzzles DLC Reign of Giants Shipwrecked Hamlet Features Wetness Overheating Boats Poison Strong Winds Volcano Pig Shops Pig Traders Housing Ancient Pig Ruins Characters Wigfrid Webber Walani Warly Wilbur Woodlegs Wilba Wormwood Wheeler Crafting Nautical Volcanic Treasure Hunting Green Thumb Renovate City Planning Mobs Glommer Bearger Dragonfly Moose/Goose Quacken Sealnado Yaarctopus Pugalisk BFB Ro Bin Don't Starve Together Expansions A New Reign Return of Them Features Game Modes Ghost Characters Curio Cabinet Communication World Regrowth Meteors Sandstorm Ocean Characters Winona Wortox Wurt Walter Wanda Wonkey Crafting Regular Survivor Items Filter Tools Filter Light Sources Filter Prototypers & Stations Filter Refined Materials Filter Refined Materials Filter Weapons Filter Armour Filter Clothing Filter Healing Filter Shadow Magic Filter Shadow Magic Filter Decorations Filter Structures Filter Storage Solutions Filter Cooking Filter Food & Gardening Filter Fishing Filter Seafaring Filter Beefalo Riding Filter Winter Items Filter Summer Items Filter Rain Gear Filter Prototyping impossible Special Event Filter Ancient Pseudoscience Filter Bottle Exchange Filter Cartography Filter Cawnival Creation Filter Celestial Filter Brightsmithy Filter Critters Filter Mad Science Filte Offerings Filter Sculptures Filter Seasonings Filter Trinket Trove Filter Winter's Feast Cooking Filter Mobs Antlion Bee Queen Klaus Malbatross Hutch Toadstool Ancient Fuelweaver Events Midsummer Cawnival Hallowed Nights Winter's Feast Lunar New Year Events The Forge The Gorge Community Recent blog posts Game Guides Klei Forums Steam Guidelines Rules Manual of Style To-do list Languages Deutsch Español Français Italiano 日本語 Polski Português Русский Tiếng Việt 中文 Woodie Filter Category page There is currently no text in this page. You can search for this page title in other pages, or search the related logs, but you do not have permission to create this page. All items (3) # A B C D E F G H I J K L M N O P Q R S T U V W X Y Z Other H Hardwood Hat T Treeguard Idol W Wooden Walking Stick Community content is available under CC-BY-SA unless otherwise noted. More Fandoms Fantasy Horror Don't Starve Advertisement Explore properties Fandom Muthead Fanatical Follow Us Overview What is Fandom? About Careers Press Contact Terms of Use Privacy Policy Global Sitemap Local Sitemap Community Community Central Support Help Do Not Sell or Share My Personal Information Advertise Media Kit Contact Fandom Apps Take your favorite fandoms with you and never miss a beat. Don't Starve Wiki is a FANDOM Games Community. View Mobile Site Follow on IG TikTok Join Fan Lab\",\n",
                  "    \"source\": \"https://dontstarve.fandom.com/wiki/Category:Woodie_Filter\"\n",
                  "}\n",
                  "{\n",
                  "    \"text\": \"MediaWiki:Wikia.css | Don't Starve Wiki | Fandom Don't Starve Wiki Explore Main Page Discuss All Pages Community Interactive Maps Recent Blog Posts Don't Starve Features Hunger Health Sanity Darkness Seasons Freezing Rain Caves Ruins Nightmare Cycle Characters Wilson Willow Wolfgang Wendy WX-78 Wickerbottom Woodie Wes Maxwell Wagstaff Crafting Tools Light Survival Food Science Fight Structures Refine Magic Dress Structures Campfire Science Machine Crock Pot Ice Box Chest Drying Rack Tent Touch Stone Wooden Thing Mobs Chester Pig Beefalo Tallbird Spider Krampus Deerclops MacTusk N' Son Shadow Creatures Abigail Lore The Constant Adventure Mode Timeline Charlie Codex Umbra Nightmare Throne Ancient Civilization Puzzles DLC Reign of Giants Shipwrecked Hamlet Features Wetness Overheating Boats Poison Strong Winds Volcano Pig Shops Pig Traders Housing Ancient Pig Ruins Characters Wigfrid Webber Walani Warly Wilbur Woodlegs Wilba Wormwood Wheeler Crafting Nautical Volcanic Treasure Hunting Green Thumb Renovate City Planning Mobs Glommer Bearger Dragonfly Moose/Goose Quacken Sealnado Yaarctopus Pugalisk BFB Ro Bin Don't Starve Together Expansions A New Reign Return of Them Features Game Modes Ghost Characters Curio Cabinet Communication World Regrowth Meteors Sandstorm Ocean Characters Winona Wortox Wurt Walter Wanda Wonkey Crafting Regular Survivor Items Filter Tools Filter Light Sources Filter Prototypers & Stations Filter Refined Materials Filter Refined Materials Filter Weapons Filter Armour Filter Clothing Filter Healing Filter Shadow Magic Filter Shadow Magic Filter Decorations Filter Structures Filter Storage Solutions Filter Cooking Filter Food & Gardening Filter Fishing Filter Seafaring Filter Beefalo Riding Filter Winter Items Filter Summer Items Filter Rain Gear Filter Prototyping impossible Special Event Filter Ancient Pseudoscience Filter Bottle Exchange Filter Cartography Filter Cawnival Creation Filter Celestial Filter Brightsmithy Filter Critters Filter Mad Science Filte Offerings Filter Sculptures Filter Seasonings Filter Trinket Trove Filter Winter's Feast Cooking Filter Mobs Antlion Bee Queen Klaus Malbatross Hutch Toadstool Ancient Fuelweaver Events Midsummer Cawnival Hallowed Nights Winter's Feast Lunar New Year Events The Forge The Gorge Community Recent blog posts Game Guides Klei Forums Steam Guidelines Rules Manual of Style To-do list Languages Deutsch Español Français Italiano 日本語 Polski Português Русский Tiếng Việt 中文 FANDOM Fan Central BETA Games Anime Movies TV Video Wikis Explore Wikis Community Central Start a Wiki Don't have an account? Register Sign In FANDOM Explore Current Wiki Start a Wiki Don't have an account? Register Sign In Advertisement Sign In Register Don't Starve Wiki 2,169pages Explore Main Page Discuss All Pages Community Interactive Maps Recent Blog Posts Don't Starve Features Hunger Health Sanity Darkness Seasons Freezing Rain Caves Ruins Nightmare Cycle Characters Wilson Willow Wolfgang Wendy WX-78 Wickerbottom Woodie Wes Maxwell Wagstaff Crafting Tools Light Survival Food Science Fight Structures Refine Magic Dress Structures Campfire Science Machine Crock Pot Ice Box Chest Drying Rack Tent Touch Stone Wooden Thing Mobs Chester Pig Beefalo Tallbird Spider Krampus Deerclops MacTusk N' Son Shadow Creatures Abigail Lore The Constant Adventure Mode Timeline Charlie Codex Umbra Nightmare Throne Ancient Civilization Puzzles DLC Reign of Giants Shipwrecked Hamlet Features Wetness Overheating Boats Poison Strong Winds Volcano Pig Shops Pig Traders Housing Ancient Pig Ruins Characters Wigfrid Webber Walani Warly Wilbur Woodlegs Wilba Wormwood Wheeler Crafting Nautical Volcanic Treasure Hunting Green Thumb Renovate City Planning Mobs Glommer Bearger Dragonfly Moose/Goose Quacken Sealnado Yaarctopus Pugalisk BFB Ro Bin Don't Starve Together Expansions A New Reign Return of Them Features Game Modes Ghost Characters Curio Cabinet Communication World Regrowth Meteors Sandstorm Ocean Characters Winona Wortox Wurt Walter Wanda Wonkey Crafting Regular Survivor Items Filter Tools Filter Light Sources Filter Prototypers & Stations Filter Refined Materials Filter Refined Materials Filter Weapons Filter Armour Filter Clothing Filter Healing Filter Shadow Magic Filter Shadow Magic Filter Decorations Filter Structures Filter Storage Solutions Filter Cooking Filter Food & Gardening Filter Fishing Filter Seafaring Filter Beefalo Riding Filter Winter Items Filter Summer Items Filter Rain Gear Filter Prototyping impossible Special Event Filter Ancient Pseudoscience Filter Bottle Exchange Filter Cartography Filter Cawnival Creation Filter Celestial Filter Brightsmithy Filter Critters Filter Mad Science Filte Offerings Filter Sculptures Filter Seasonings Filter Trinket Trove Filter Winter's Feast Cooking Filter Mobs Antlion Bee Queen Klaus Malbatross Hutch Toadstool Ancient Fuelweaver Events Midsummer Cawnival Hallowed Nights Winter's Feast Lunar New Year Events The Forge The Gorge Community Recent blog posts Game Guides Klei Forums Steam Guidelines Rules Manual of Style To-do list Languages Deutsch Español Français Italiano 日本語 Polski Português Русский Tiếng Việt 中文 Wikia.css MediaWiki page Sign in to edit View history Talk (0) Note: After publishing, you may have to bypass your browser's cache to see the changes. Firefox / Safari: Hold Shift while clicking Reload, or press either Ctrl-F5 or Ctrl-R (⌘-R on a Mac) Google Chrome: Press Ctrl-Shift-R (⌘-Shift-R on a Mac) Internet Explorer / Edge: Hold Ctrl while clicking Refresh, or press Ctrl-F5 Opera: Press Ctrl-F5. /* Imports must go at the top of Common.css */ /* Notifications */ #WallNotifications .bubbles { background-image: url(\\\"https://images.wikia.nocookie.net/__cb20130809184047/dont-starve/ru/images/1/1f/%D0%A1%D1%83%D0%BD%D0%B4%D1%83%D0%BA_%D0%BF%D0%B0%D0%BD%D0%B4%D0%BE%D1%80%D1%8B.png\\\"); background-repeat: no-repeat; width: 35px; height: 35px; margin-top: -3px; margin-left: -8px; } #WallNotifications .bubbles:hover { background-image: url(\\\"https://images.wikia.nocookie.net/dont-starve/ru/images/e/e9/%D0%A1%D1%83%D0%BD%D0%B4%D1%83%D0%BA_%D0%9F%D0%B0%D0%BD%D0%B4%D0%BE%D1%80%D1%8B2.png\\\"); background-repeat: no-repeat; width: 38px; height: 35px; margin-top: -11px; margin-left: -10px; } /* User profile header */ .UserProfileMasthead .masthead-info hgroup { padding-top: 10px; padding-bottom: 15px; background: #482D37; } /* User right group icons */ .tag.usergroup-bureaucrat { background-color: darkorange !important; color: white !important; font-weight: bolder; } .tag.usergroup-sysop { background-color: red !important; color: white !important; font-weight: bolder; } .tag.usergroup-bot { background-color: brown !important; color: white !important; font-weight: bolder; } .tag.usergroup-chatmoderator { background-color: maroon !important; color: white !important; font-weight: bolder; } .tag.usergroup-content-moderator { background-color: green !important; color: yellow !important; font-weight: bolder; } .tag.usergroup-rollback { background-color: blue !important; color: white !important; font-weight: bolder; } .tag.usergroup-threadmoderator { background-color: purple !important; color: white !important; font-weight: bolder; } #UserProfileMasthead .tag-container .autoconfirmed-user { display: none !important; } /* Tabber style. Street cred to Hedgeg*/ .tabberlive { /*tabs container*/ border:none !important; } .tabbertab { /*content container*/ border:none !important; } ul.tabbernav { /*tabs row+general parameters*/ background-color: #EDEBDC; font-size: 22px; text-align:center; } ul.tabbernav li a /*tabs*/ { color:#3A3A3A !important; background: none !important; border:none !important; } ul.tabbernav li a:hover /*hover tab*/ { color:#3A3A3A !important; background-color: #B8939F !important; } ul.tabbernav li.tabberactive a { /*active tab*/ color:#C3B3A3 !important; background-color: #482D37 !important; } /** A few hover classes to allow mouse over behavior without javascript. These are from Don't Starve Wiki, so prefixed with DSW to avoid potential conflicts. DSWHoverTabContainer - is to be applied to the top container which contains all tabs. DSWHoverTab - is to be applied to a single tab of data, contained by the DSWHoverTabContainer DSWHoverTabDefault - is to be applied to only one of the elements that has DSWHoverTab class to make it the default tab DSWHoverTabSelector - is to be applied to selectors of tabs. This must be inside a DSWHoverTab, and must not be paret or child of DSWHoverTabContent DSWHoverTabContent - is to be applied to content of tabs. This must be inside a DSWHoverTab, and must not be paret or child of DSWHoverTabSelector **/ /*Hide the top container, only used for linking css styles*/ .DSWHoverTabContainer{ visibility:hidden; } /*Content is not displayed by default, but it overrides the parent so that it would be visible*/ .DSWHoverTabContent{ display:none; visibility:visible; } /*Selectors are by default transparent*/ .DSWHoverTabSelector{ -webkit-filter: opacity(40%); /* Chrome, Safari, Opera */ filter: opacity(40%); /* standard */ visibility:visible; } /*When the tab is hovered, or when the container isn't hovered, but the tab is default make the selector opaque*/ .DSWHoverTab:Hover .DSWHoverTabSelector, .DSWHoverTabContainer:not(:Hover) .DSWHoverTabDefault .DSWHoverTabSelector{ -webkit-filter: opacity(100%); /* Chrome, Safari, Opera */ filter: opacity(100%); /* standard */ } /*When the tab is hovered, or when the container isn't hovered, but the tab is default make the content display*/ .DSWHoverTab:Hover .DSWHoverTabContent, .DSWHoverTabContainer:not(:Hover) .DSWHoverTabDefault .DSWHoverTabContent{ pointer-events: none; /* The newly displayed container should not block infobox tabbers */ display:block; } /** Styling for the warning message when attempting to reply old comments **/ .DSWOldCommentWarning{ color:red; } /** Replacing the default frames on the leaderboard with the custom ones for this wiki **/ #about-achievements ul .bronze span { background-image: url(\\\"https://vignette.wikia.nocookie.net/dont-starve-game/images/2/27/Achievements_Leaderboard_Frame_Bronze.png/revision/latest?cb=20190518213939\\\"); } #about-achievements ul .silver span { background-image: url(\\\"https://vignette.wikia.nocookie.net/dont-starve-game/images/5/5c/Achievements_Leaderboard_Frame_Silver.png/revision/latest?cb=20190518213913\\\"); } #about-achievements ul .gold span { background-image: url(\\\"https://vignette.wikia.nocookie.net/dont-starve-game/images/0/01/Achievements_Leaderboard_Frame_Gold.png/revision/latest?cb=20190518213902\\\"); } /** Administrator Style You may refer to the following links: http://community.wikia.com/wiki/Forum:Completely_Styling_Admin_Comments http://dev.wikia.com/wiki/Admins_%26_Bureaucrats_Highlight **/ /* User:Anemicne */ /*a[href$=\\\"/wiki/User:Anemicne\\\"], a[href=\\\"/wiki/Message_Wall:Anemicne\\\"], a[href=\\\"/wiki/User_blog:Anemicne\\\"], a[href=\\\"/wiki/Special:Contributions/Anemicne\\\"]{color: #fff; text-shadow: 0px 1px 0px #999, 0px 2px 0px #888, 0px 3px 0px #777, 0px 4px 0px #666, 0px 5px 0px #555, 0px 6px 0px #444, 0px 7px 0px #333, 0px 8px 7px #001135; font-family: ChunkFiveRegular, Century Gothic Light;} .comments li[data-user=\\\"Anemicne\\\"] blockquote {background-color: rgba(255,255,255,0.3) !important;} .comments li[data-user=\\\"Anemicne\\\"] blockquote:after {border-color: transparent #fff #fff transparent !important;}*/ /* User:Deiaa2002 */ a[href$=\\\"/wiki/User:Deiaa2002\\\"], a[href=\\\"/wiki/Message_Wall:Deiaa2002\\\"], a[href=\\\"/wiki/User_blog:Deiaa2002\\\"], a[href=\\\"/wiki/Special:Contributions/Deiaa2002\\\"]{ color: #0000FF; font-weight: bold ; font-family: Times New Roman; text-shadow: 0.3em 0.2em 0.2em #A79D89;} .comments li[data-user=\\\"Deiaa2002\\\"] blockquote {background-color: rgba(135,185,255,0.5) !important;} .comments li[data-user=\\\"Deiaa2002\\\"] blockquote:after {border-color: transparent #87B9FF #87B9FF transparent !important;} /* User:Mentalistpro */ /*a[href$=\\\"/wiki/User:Mentalistpro\\\"], a[href=\\\"/wiki/Message_Wall:Mentalistpro\\\"], a[href=\\\"/wiki/User_blog:Mentalistpro\\\"], a[href=\\\"/wiki/Special:Contributions/Mentalistpro\\\"]{ background: -webkit-linear-gradient(bottom, #911AAB, #DA5751, #DA5751); -webkit-background-clip: text; -webkit-text-fill-color: transparent; background: -moz-linear-gradient(bottom, #911AAB, #DA5751, #DA5751); -moz-background-clip: text; -moz-text-fill-color: transparent; background: -msie-linear-gradient(bottom, #911AAB, #DA5751, #DA5751); -msie-background-clip: text; -msie-text-fill-color: transparent; font-family: Century Gothic Light; font-weight:bold; text-shadow: 0.03em 0.03em 0.03em rgba(0, 0, 0, 0.3);} .comments li[data-user=\\\"Mentalistpro\\\"] blockquote {background-color: rgba(247,195,127,0.3) !important;} .comments li[data-user=\\\"Mentalistpro\\\"] blockquote:after {border-color: transparent #F7C37F #F7C37F transparent !important;}*/ /* User:Stl1234 */ /*a[href$=\\\"/wiki/User:Stl1234\\\"], a[href=\\\"/wiki/Message_Wall:Stl1234\\\"], a[href=\\\"/wiki/User_blog:Stl1234\\\"], a[href=\\\"/wiki/Special:Contributions/Stl1234\\\"]{ color: #524C41; font-weight: bold ; font-family: Times New Roman; text-shadow: 0.15em 0.15em 0.15em #A79D89;} .comments li[data-user=\\\"Stl1234\\\"] blockquote {background-color: rgba(105,103,103,0.3) !important;} .comments li[data-user=\\\"Stl1234\\\"] blockquote:after {border-color: transparent #696767 #696767 transparent !important;}*/ /* User:TeoSS69 */ /*a[href$=\\\"/wiki/User:TeoSS69\\\"], a[href=\\\"/wiki/Message_Wall:TeoSS69\\\"], a[href=\\\"/wiki/User_blog:TeoSS69\\\"], a[href=\\\"/wiki/Special:Contributions/TeoSS69\\\"]{ color: #5A8C9D; font-weight: bold ; font-family: Times New Roman; text-shadow: 0.15em 0.15em 0.15em #A79D89;} .comments li[data-user=\\\"TeoSS69\\\"] blockquote {background-color: rgba(202,221,228,0.3) !important;} .comments li[data-user=\\\"TeoSS69\\\"] blockquote:after {border-color: transparent #CADDE4 #CADDE4 transparent !important;}*/ /* User:TimothyofSilver */ /*a[href$=\\\"/wiki/User:TimothyofSilver\\\"], a[href=\\\"/wiki/Message_Wall:TimothyofSilver\\\"], a[href=\\\"/wiki/User_blog:TimothyofSilver\\\"], a[href=\\\"/wiki/Special:Contributions/TimothyofSilver\\\"]{ color: #6D914D; font-weight: bold ; font-family: Century Gothic Light; text-shadow: 0.03em 0.03em 0.03em #A79D89;} .comments li[data-user=\\\"TimothyofSilver\\\"] blockquote {background-color: rgba(109,145,77,0.3) !important;} .comments li[data-user=\\\"TimothyofSilver\\\"] blockquote:after {border-color: transparent #6D914D #6D914D transparent !important;}*/ /* User:MMueck */ a[href$=\\\"/wiki/User:MMueck\\\"], a[href=\\\"/wiki/Message_Wall:MMueck\\\"], a[href=\\\"/wiki/User_blog:MMueck\\\"], a[href=\\\"/wiki/Special:Contributions/MMueck\\\"]{ color: #449696; font-weight: bold ; font-family: Century Gothic Light; text-shadow: 0.15em 0.15em 0.15em #A79D89;} .comments li[data-user=\\\"MMueck\\\"] blockquote {background-color: rgba(68,150,150,0.3) !important;} .comments li[data-user=\\\"MMueck\\\"] blockquote:after {border-color: transparent #449696 #449696 transparent !important;} /* User:Luvian22 */ a[href$=\\\"/wiki/User:Luvian22\\\"], a[href=\\\"/wiki/Message_Wall:Luvian22\\\"], a[href=\\\"/wiki/User_blog:Luvian22\\\"], a[href=\\\"/wiki/Special:Contributions/Luvian22\\\"]{ color: #861087; font-weight: bold ; font-family: Century Gothic Light; text-shadow: 0.05em 0.05em 0.05em #A79D89;} .comments li[data-user=\\\"Luvian22\\\"] blockquote {background-color: rgba(145,26,146,0.3) !important;} .comments li[data-user=\\\"Luvian22\\\"] blockquote:after {border-color: transparent #911a92 #911a92 transparent !important;} /* User:Bluegeist */ a[href$=\\\"/wiki/User:Bluegeist\\\"], a[href=\\\"/wiki/Message_Wall:Bluegeist\\\"], a[href=\\\"/wiki/User_blog:Bluegeist\\\"], a[href=\\\"/wiki/Special:Contributions/Bluegeist\\\"]{ color: #33427a; font-weight: bold; font-family: Century Gothic; text-shadow: 0.1em 0.1em 0.1em #ffffff;} .comments li[data-user=\\\"Bluegeist\\\"] blockquote {background-color: rgba(51,66,122,0.3) !important;} .comments li[data-user=\\\"Bluegeist\\\"] blockquote:after {border-color: transparent #33427a #33427a transparent !important;} /* Adjusting padding on wikitables */ .wikitable > tr > th, .wikitable > tr > td, .wikitable > * > tr > th, .wikitable > * > tr > td { padding: 0.2em 0.2em; } /* imagewidth for infoboxes fix per queron */ .portable-infobox.pi-theme-64x .pi-image-thumbnail { max-width: 64px; height: auto; } .portable-infobox.pi-theme-80px .pi-image-thumbnail { max-width: 80px; height: auto; } .portable-infobox.pi-theme-90px .pi-image-thumbnail { max-width: 90px; height: auto; } .portable-infobox.pi-theme-100px .pi-image-thumbnail { max-width: 100px; height: auto; } .portable-infobox.pi-theme-110px .pi-image-thumbnail { max-width: 110px; height: auto; } .portable-infobox.pi-theme-120px .pi-image-thumbnail { max-width: 120px; height: auto; } .portable-infobox.pi-theme-130px .pi-image-thumbnail { max-width: 130px; height: auto; } .portable-infobox.pi-theme-140px .pi-image-thumbnail { max-width: 140px; height: auto; } .portable-infobox.pi-theme-150px .pi-image-thumbnail { max-width: 150px; height: auto; } .portable-infobox.pi-theme-160px .pi-image-thumbnail { max-width: 160px; height: auto; } .portable-infobox.pi-theme-170px .pi-image-thumbnail { max-width: 170px; height: auto; } .portable-infobox.pi-theme-180px .pi-image-thumbnail { max-width: 180px; height: auto; } .portable-infobox.pi-theme-190px .pi-image-thumbnail { max-width: 190px; height: auto; } .portable-infobox.pi-theme-200px .pi-image-thumbnail { max-width: 200px; height: auto; } .portable-infobox.pi-theme-210px .pi-image-thumbnail { max-width: 210px; height: auto; } .portable-infobox.pi-theme-220px .pi-image-thumbnail { max-width: 220px; height: auto; } .portable-infobox.pi-theme-230px .pi-image-thumbnail { max-width: 230px; height: auto; } .portable-infobox.pi-theme-240px .pi-image-thumbnail { max-width: 240px; height: auto; } /* end of imagewidth for infoboxes fix per queron */ /* The following code was copied from the Templates Wiki to allow for collapsible navboxes - Bluegeist */ /* For [show]/[hide] link of javascript collapsible tables */ .collapseButton { /* 'show'/'hide' buttons created dynamically by the */ float: right; /* CollapsibleTables javascript in [[MediaWiki:Common.js]] */ font-weight: normal; /* are styled here so they can be customised. */ text-align: right; width: auto; } /* End of collapsible code */ Community content is available under CC-BY-SA unless otherwise noted. More Fandoms Fantasy Horror Don't Starve Advertisement Explore properties Fandom Muthead Fanatical Follow Us Overview What is Fandom? About Careers Press Contact Terms of Use Privacy Policy Global Sitemap Local Sitemap Community Community Central Support Help Do Not Sell or Share My Personal Information Advertise Media Kit Contact Fandom Apps Take your favorite fandoms with you and never miss a beat. Don't Starve Wiki is a FANDOM Games Community. View Mobile Site Follow on IG TikTok Join Fan Lab\",\n",
                  "    \"source\": \"https://dontstarve.fandom.com/wiki/MediaWiki:Wikia.css\"\n",
                  "}\n",
                  "common_text:  Don't Starve Wiki | Fandom Don't Starve Wiki Explore Main Page Discuss All Pages Community Interactive Maps Recent Blog Posts Don't Starve Features Hunger Health Sanity Darkness Seasons Freezing Rain Caves Ruins Nightmare Cycle Characters Wilson Willow Wolfgang Wendy WX-78 Wickerbottom Woodie Wes Maxwell Wagstaff Crafting Tools Light Survival Food Science Fight Structures Refine Magic Dress Structures Campfire Science Machine Crock Pot Ice Box Chest Drying Rack Tent Touch Stone Wooden Thing Mobs Chester Pig Beefalo Tallbird Spider Krampus Deerclops MacTusk N' Son Shadow Creatures Abigail Lore The Constant Adventure Mode Timeline Charlie Codex Umbra Nightmare Throne Ancient Civilization Puzzles DLC Reign of Giants Shipwrecked Hamlet Features Wetness Overheating Boats Poison Strong Winds Volcano Pig Shops Pig Traders Housing Ancient Pig Ruins Characters Wigfrid Webber Walani Warly Wilbur Woodlegs Wilba Wormwood Wheeler Crafting Nautical Volcanic Treasure Hunting Green Thumb Renovate City Planning Mobs Glommer Bearger Dragonfly Moose/Goose Quacken Sealnado Yaarctopus Pugalisk BFB Ro Bin Don't Starve Together Expansions A New Reign Return of Them Features Game Modes Ghost Characters Curio Cabinet Communication World Regrowth Meteors Sandstorm Ocean Characters Winona Wortox Wurt Walter Wanda Wonkey Crafting Regular Survivor Items Filter Tools Filter Light Sources Filter Prototypers & Stations Filter Refined Materials Filter Refined Materials Filter Weapons Filter Armour Filter Clothing Filter Healing Filter Shadow Magic Filter Shadow Magic Filter Decorations Filter Structures Filter Storage Solutions Filter Cooking Filter Food & Gardening Filter Fishing Filter Seafaring Filter Beefalo Riding Filter Winter Items Filter Summer Items Filter Rain Gear Filter Prototyping impossible Special Event Filter Ancient Pseudoscience Filter Bottle Exchange Filter Cartography Filter Cawnival Creation Filter Celestial Filter Brightsmithy Filter Critters Filter Mad Science Filte Offerings Filter Sculptures Filter Seasonings Filter Trinket Trove Filter Winter's Feast Cooking Filter Mobs Antlion Bee Queen Klaus Malbatross Hutch Toadstool Ancient Fuelweaver Events Midsummer Cawnival Hallowed Nights Winter's Feast Lunar New Year Events The Forge The Gorge Community Recent blog posts Game Guides Klei Forums Steam Guidelines Rules Manual of Style To-do list Languages Deutsch Español Français Italiano 日本語 Polski Português Русский Tiếng Việt 中文 FANDOM Fan Central BETA Games Anime Movies TV Video Wikis Explore Wikis Community Central Start a Wiki Don't have an account? Register Sign In FANDOM Explore Current Wiki Start a Wiki Don't have an account? Register Sign In Advertisement Sign In Register Don't Starve Wiki 2,169pages Explore Main Page Discuss All Pages Community Interactive Maps Recent Blog Posts Don't Starve Features Hunger Health Sanity Darkness Seasons Freezing Rain Caves Ruins Nightmare Cycle Characters Wilson Willow Wolfgang Wendy WX-78 Wickerbottom Woodie Wes Maxwell Wagstaff Crafting Tools Light Survival Food Science Fight Structures Refine Magic Dress Structures Campfire Science Machine Crock Pot Ice Box Chest Drying Rack Tent Touch Stone Wooden Thing Mobs Chester Pig Beefalo Tallbird Spider Krampus Deerclops MacTusk N' Son Shadow Creatures Abigail Lore The Constant Adventure Mode Timeline Charlie Codex Umbra Nightmare Throne Ancient Civilization Puzzles DLC Reign of Giants Shipwrecked Hamlet Features Wetness Overheating Boats Poison Strong Winds Volcano Pig Shops Pig Traders Housing Ancient Pig Ruins Characters Wigfrid Webber Walani Warly Wilbur Woodlegs Wilba Wormwood Wheeler Crafting Nautical Volcanic Treasure Hunting Green Thumb Renovate City Planning Mobs Glommer Bearger Dragonfly Moose/Goose Quacken Sealnado Yaarctopus Pugalisk BFB Ro Bin Don't Starve Together Expansions A New Reign Return of Them Features Game Modes Ghost Characters Curio Cabinet Communication World Regrowth Meteors Sandstorm Ocean Characters Winona Wortox Wurt Walter Wanda Wonkey Crafting Regular Survivor Items Filter Tools Filter Light Sources Filter Prototypers & Stations Filter Refined Materials Filter Refined Materials Filter Weapons Filter Armour Filter Clothing Filter Healing Filter Shadow Magic Filter Shadow Magic Filter Decorations Filter Structures Filter Storage Solutions Filter Cooking Filter Food & Gardening Filter Fishing Filter Seafaring Filter Beefalo Riding Filter Winter Items Filter Summer Items Filter Rain Gear Filter Prototyping impossible Special Event Filter Ancient Pseudoscience Filter Bottle Exchange Filter Cartography Filter Cawnival Creation Filter Celestial Filter Brightsmithy Filter Critters Filter Mad Science Filte Offerings Filter Sculptures Filter Seasonings Filter Trinket Trove Filter Winter's Feast Cooking Filter Mobs Antlion Bee Queen Klaus Malbatross Hutch Toadstool Ancient Fuelweaver Events Midsummer Cawnival Hallowed Nights Winter's Feast Lunar New Year Events The Forge The Gorge Community Recent blog posts Game Guides Klei Forums Steam Guidelines Rules Manual of Style To-do list Languages Deutsch Español Français Italiano 日本語 Polski Português Русский Tiếng Việt 中文 in: \n"
               ]
            }
         ],
         "source": [
            "corpus=Corpus()\n",
            "corpus.get_raw_data_info()\n",
            "print(\"common_text:\",corpus.common_text)"
         ]
      },
      {
         "cell_type": "code",
         "execution_count": 6,
         "metadata": {},
         "outputs": [
            {
               "name": "stdout",
               "output_type": "stream",
               "text": [
                  "Number of refined data elements: 5164\n",
                  "Number of fields: 3\n",
                  "Field names: dict_keys(['text', 'source', 'filename'])\n",
                  "Sample elements:\n",
                  "{\n",
                  "    \"text\": \"Tin Fishin' Bin |Craftable Structures, Don't Starve Together, Structures, and 6 more Craftable Items Seafaring Filter Storage Solutions Filter Fishing Filter Return of Them Non-Flammable English Tiếng Việt Tin Fishin' Bin Edit Edit source View history Talk (0) Exclusive to: Tin Fishin' Bin \\\"Keep fish as fresh as the day you net them.\\\" Crafting Recipe ×1 ×3 Filter Tier Perk Refresh spoilage of Ocean Fishes placed inside. Code \\\"fish_box\\\" “They're stuffed in there like sardines!” –Wilson “Did we just... put a hole in the boat?” –Willow “Is new home for fish. For now.” –Wolfgang “It feels a bit cruel to trap them within sight of freedom.” –Wendy “THE DISGUSTING CREATURES WILL PUTRIFY SLOWER IN THERE” –WX-78 “A clever contraption to keep seafood fresh.” –Wickerbottom “Reminds me of the old salmon fisheries.” –Woodie “Ugh, the smell... the things I do for a decent meal.” –Maxwell “Meat is best when it's fresh!” –Wigfrid “It's like an aquarium! Except we eat the fish...” –Webber “Is the fish fresh or canned? I feel rather conflicted.” –Warly “Glub Glubs go in there” –Wormwood “Now there's a nice practical way to store fish!” –Winona “Fill it to the brim with bream!” –Wortox “This where scale-less keep fish pets, florp?” –Wurt “That'll keep our fish fresh!” –Walter “I suppose the best way to keep fish fresh is to keep them alive.” –Wanda The Tin Fishin' Bin is a craftable Structure exclusive to Don't Starve Together, introduced in Return of Them. The Tin Fishin' Bin can be placed on a Boat. It can be used to store up to 20 Ocean Fishes, Wobster or Lunar Wobster. Fishes in the Tin Fishin' Bin do not spoil, instead, they regain their freshness at a rate equivalent to 33% of their spoiling rate, allowing them to fully regain freshness in 3 days, at most. They can be placed on docks. Skins[] Main article: Belongings#Tin_Fishin'_Bin In Don't Starve Together, Skins can be applied to certain items to change their appearance. Information on how to obtain specific skins can be found on the Belongings page. LoyalSilver Tuna TinFit for only the finest fish.See ingame Trivia[] The Tin Fishin' Bin was introduced in the Hook, Line, and Inker update. Gallery[] An opened Tin Fishin' Bin.An unused texture for a burnt Tin Fishin' Bin.Tin Fishin' Bin concept art from Rhymes With Play.Tin Fishin' Bin UI concept art from Rhymes With Play.Tin Fishin' Bin UI concept art from Rhymes With Play. DSRoGSWHamDST Don't Starve Craftable Itemsview Tools Light Survival Food Science Fight Structures Refine Magic Dress Ancient Books Tinkering Don't Starve: Reign of Giants Craftable Itemsview Tools Light Survival Food Science Fight Structures Refine Magic Dress Ancient Books Tinkering Don't Starve: Shipwrecked Craftable Itemsview Tools Light Nautical Survival Food Science Fight Structures Refine Magic Dress Volcanic Books Tinkering Don't Starve: Hamlet Craftable Itemsview Tools Light Treasure Hunting Survival Nautical Food Science Fight Structures Refine Magic Dress Green Thumb Books Tinkering City Planning Renovate ⠀view Floors Shelves Plantholders Columns Wall Papers Hanging Lamps Ornaments Chairs Home Kits Doors Windows Rugs Lamps Tables Don't Starve Together Craftable Itemsview Survivor Items WilsonWillowWolfgangWendyWX-78WickerbottomWoodieWesMaxwell WigfridWebberWarlyWormwoodWinonaWurtWalterWanda Tools Light Sources Prototypers & Stations Refined Materials Weapons Armour Clothing Healing Shadow Magic Decorations Structures Storage Solutions Cooking Food & Gardening Fishing Seafaring Beefalo Riding Winter Items Summer Items Rain Gear Special Event Ancient Pseudoscience Cartography Critters Celestial Brightsmithy Shadowcrafting Bottle Exchange Sculptures Seasonings Offerings Year of the GobblerYear of the VargYear of the Pig KingYear of the Carrat Year of the BeefaloYear of the CatcoonYear of the Bunnyman Cawnival Creation Trinket Trove Mad Science Winter's Feast Cooking Categories Categories: Craftable Structures Don't Starve Together Structures Craftable Items Seafaring Filter Storage Solutions Filter Fishing Filter Return of Them Non-Flammable Add category Cancel Save Languages Tiếng Việt Community content is available under CC-BY-SA unless otherwise noted. More Fandoms Fantasy Horror Don't Starve Advertisement Fan Feed More Don't Starve Wiki 1 Characters 2 Don't Starve Together 3 Crock Pot Explore properties Fandom Muthead Fanatical Follow Us Overview What is Fandom? About Careers Press Contact Terms of Use Privacy Policy Global Sitemap Local Sitemap Community Community Central Support Help Do Not Sell or Share My Personal Information Advertise Media Kit Contact Fandom Apps Take your favorite fandoms with you and never miss a beat. Don't Starve Wiki is a FANDOM Games Community. View Mobile Site Follow on IG TikTok Join Fan Lab\",\n",
                  "    \"source\": \"https://dontstarve.fandom.com/wiki/Tin_Fishin%27_Bin\",\n",
                  "    \"filename\": \"Tin Fishin' Bin\"\n",
                  "}\n",
                  "{\n",
                  "    \"text\": \"Farmer |Hamlet, Mobs, Diurnals, and 2 more Passive Creatures Talkers Farmer < Pig Traders Edit Edit source View history Talk (0) Exclusive to: Farmer Stats 250 Movement Walking Speed Running Speed 3 5 Traits Special Ability Gives 1x for once a day Loot 75%, 25% Spawns from Code \\\"pigman_farmer\\\" “I hope he doesn't farm pigs.” –Wilson “I didn't know pigs did farm work.” –Willow “Pig is good little farmer.” –Wolfgang “A simple life for a simple creature.” –Wendy “DEALS IN FILTHY ORGANIC MATERIAL” –WX-78 “A farm toiling pig.” –Wickerbottom “Someone's gotta do the farming.” –Woodie “He smells of farming and hard labor.” –Maxwell “Cultivated a fondness for grasses. Can't say I blame him.” –Wagstaff “Yön time be better spent ön the fruits öf the hunt, pig!” –Wigfrid “I hope the crops are doing well.” –Webber “How are you, farmer-pig-dude?” –Walani “Doing good work, mon amie.” –Warly “Walkin' swine ye be.” –Woodlegs “COUNTRYPIG LEND ME YOUR STUFFS” –Wilba “Likes grass friends” –Wormwood “A simple pig with simple desires. Namely, that I don't steal his stuff.” –Wheeler The Farmer is a Pig Trader Mob exclusive to the Hamlet DLC. He stands around the farms near the Pig Village. The player can sell Cut Grass or Twigs to him for an Oinc only once a day. If the player harvests Berry Bushes, Grass, Twigs or Farms near the Farmer, a Pig Guard will attack. As Farm Houses cannot be built by the player, even with the Key to the City, Farmers are one of the few Pig Traders that cannot be brought to the Constant's mainland or the Shipwrecked worlds. DSRoGSWHamDSTAll Mobsview Attention: The following categories are only for the players look up the page based on their first impression, they have nothing to do with the actual categories/behavior/function/tags of these creatures Hostile Creatures Neutral Animals Passive Animals Boss Follower Animals Traders NPC Mobsview Attention: The following categories are only for the players look up the page based on their first impression, they have nothing to do with the actual categories/behavior/function/tags of these creatures Hostile Creatures Neutral Animals Passive Animals Boss Follower Animals Traders NPC Mobsview Attention: The following categories are only for the players look up the page based on their first impression, they have nothing to do with the actual categories/behavior/function/tags of these creatures Hostile Creatures Neutral Animals Passive Animals Boss Follower Animals Traders NPC Mobsview Attention: The following categories are only for the players look up the page based on their first impression, they have nothing to do with the actual categories/behavior/function/tags of these creatures Hostile Creatures Neutral Animals Passive Animals Boss Follower Animals Traders NPC Mobsview Attention: The following categories are only for the players look up the page based on their first impression, they have nothing to do with the actual categories/behavior/function/tags of these creatures Hostile Creatures Neutral Animals Passive Animals Boss Follower Animals Traders NPC The Forge The Gorge Mobsview Attention: The following categories are only for the players look up the page based on their first impression, they have nothing to do with the actual categories/behavior/function/tags of these creatures Spiders Hounds Mechanisms Bugs and Worms Сrustaceans Ungulates (no pigs) Rodents Cats Birds Amphibians Mollusca Pinnipedia Underwater Сreatures Terraria Living plants Pigs Monkeys Golems Ghosts Lunar Сreatures Shadow Сreatures Follower Animals Boss NPC The Forge The Gorge Event Mobs Categories Categories: Hamlet Mobs Diurnals Passive Creatures Talkers Add category Cancel Save Community content is available under CC-BY-SA unless otherwise noted. More Fandoms Fantasy Horror Don't Starve Advertisement Fan Feed More Don't Starve Wiki 1 Characters 2 Don't Starve Together 3 Crock Pot Explore properties Fandom Muthead Fanatical Follow Us Overview What is Fandom? About Careers Press Contact Terms of Use Privacy Policy Global Sitemap Local Sitemap Community Community Central Support Help Do Not Sell or Share My Personal Information Advertise Media Kit Contact Fandom Apps Take your favorite fandoms with you and never miss a beat. Don't Starve Wiki is a FANDOM Games Community. View Mobile Site Follow on IG TikTok Join Fan Lab\",\n",
                  "    \"source\": \"https://dontstarve.fandom.com/wiki/Farmer\",\n",
                  "    \"filename\": \"Farmer\"\n",
                  "}\n"
               ]
            }
         ],
         "source": [
            "corpus.process_raw_data()\n",
            "corpus.save_refined_data()\n",
            "corpus.get_refined_data_info()"
         ]
      },
      {
         "cell_type": "code",
         "execution_count": 7,
         "metadata": {},
         "outputs": [
            {
               "name": "stdout",
               "output_type": "stream",
               "text": [
                  "6230\n",
                  "14403\n",
                  "10830\n",
                  "2151\n",
                  "15233\n"
               ]
            }
         ],
         "source": [
            "import json\n",
            "\n",
            "# Read the refined_data.json file\n",
            "with open('../data/refined_data.json', 'r') as file:\n",
            "    data = json.load(file)\n",
            "\n",
            "# Create a set to track unique filename field values\n",
            "seen_filenames = set()\n",
            "\n",
            "# Filter the data based on item field values\n",
            "filtered_data = []\n",
            "for item in data:\n",
            "    filename = item.get('filename')\n",
            "    if filename in ['Axe', 'Wilson', 'Hunger', 'Food Tab', 'Caves'] and filename not in seen_filenames:\n",
            "        seen_filenames.add(filename)\n",
            "        print(len(item.get('text')))\n",
            "        filtered_data.append(item)\n",
            "\n",
            "# Save the filtered data as sample_data.json with formatted indentation and disable ASCII encoding\n",
            "with open('../data/sample_data.json', 'w', encoding='utf-8') as file:\n",
            "    json.dump(filtered_data, file, indent=4, ensure_ascii=False)"
         ]
      },
      {
         "cell_type": "code",
         "execution_count": null,
         "metadata": {},
         "outputs": [],
         "source": []
      }
   ],
   "metadata": {
      "kernelspec": {
         "display_name": "DST-GPT",
         "language": "python",
         "name": "python3"
      },
      "language_info": {
         "codemirror_mode": {
            "name": "ipython",
            "version": 3
         },
         "file_extension": ".py",
         "mimetype": "text/x-python",
         "name": "python",
         "nbconvert_exporter": "python",
         "pygments_lexer": "ipython3",
         "version": "3.8.18"
      }
   },
   "nbformat": 4,
   "nbformat_minor": 2
}
